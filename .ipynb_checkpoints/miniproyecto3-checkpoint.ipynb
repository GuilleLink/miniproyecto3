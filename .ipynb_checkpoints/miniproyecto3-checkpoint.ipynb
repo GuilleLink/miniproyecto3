{
 "cells": [
  {
   "cell_type": "markdown",
   "metadata": {},
   "source": [
    "# Miniproyecto 3"
   ]
  },
  {
   "cell_type": "markdown",
   "metadata": {},
   "source": [
    "### Imports"
   ]
  },
  {
   "cell_type": "code",
   "execution_count": 1,
   "metadata": {
    "tags": []
   },
   "outputs": [],
   "source": [
    "import numpy as np\n",
    "import random\n",
    "import math\n",
    "\n",
    "from utilities import *"
   ]
  },
  {
   "cell_type": "markdown",
   "metadata": {},
   "source": [
    "## Task 1"
   ]
  },
  {
   "cell_type": "markdown",
   "metadata": {},
   "source": [
    "### Gorilla Megacomputing"
   ]
  },
  {
   "cell_type": "code",
   "execution_count": 10,
   "metadata": {},
   "outputs": [],
   "source": [
    "#Variables\n",
    "#Generales\n",
    "tiempos = []\n",
    "tiempo = 60\n",
    "lambda_max = 2400\n",
    "#Gorilla\n",
    "solicitudes_Gorilla = 100\n",
    "servidores_Gorilla = 1"
   ]
  },
  {
   "cell_type": "code",
   "execution_count": 11,
   "metadata": {
    "tags": []
   },
   "outputs": [],
   "source": [
    "tiempos_llegadas, tiempos_salidas, llegadas, salidas, clientes, siguiente_llegada, salidas_server, tiempo_espera, tiempo_ocupado = simulacion(tiempo, lambda_max, 1 / (solicitudes_Gorilla * 60), servidores_Gorilla)"
   ]
  },
  {
   "cell_type": "code",
   "execution_count": 12,
   "metadata": {
    "tags": []
   },
   "outputs": [
    {
     "name": "stdout",
     "output_type": "stream",
     "text": [
      "Duracion: 60\n",
      " -- Solicitudes atentidas: 143546.0\n",
      " -- Tiempo de server ocupado: 23.9536748831312\n",
      " -- Tiempo de server desocupado: 36.0463251168688\n",
      " -- Tiempo de solicitudes en cola: 9.564468447964872\n",
      " -- Tiempo promedio de solicitudes en cola: 6.662952515876244e-05\n",
      " -- Promedio de solicitudes en cola por segundo: 30151.35177320291\n",
      " -- Momento de la ultima salida: 60.00051564955076\n"
     ]
    }
   ],
   "source": [
    "print('Duracion:', tiempo)\n",
    "print(' -- Solicitudes atentidas:', salidas[0])\n",
    "print(' -- Tiempo de server ocupado:', tiempo_ocupado[0])\n",
    "print(' -- Tiempo de server desocupado:', np.maximum(np.ones(servidores_Gorilla) * tiempo  - tiempo_ocupado, 0)[0])\n",
    "print(' -- Tiempo de solicitudes en cola:', sum(tiempo_espera))\n",
    "print(' -- Tiempo promedio de solicitudes en cola:', np.mean(tiempo_espera))\n",
    "print(' -- Promedio de solicitudes en cola por segundo:', np.mean([1/i if i > 0 else 0 for i in tiempo_espera]))\n",
    "print(' -- Momento de la ultima salida:', salidas_server[-1])"
   ]
  },
  {
   "cell_type": "markdown",
   "metadata": {},
   "source": [
    "### Ants smart computing"
   ]
  },
  {
   "cell_type": "code",
   "execution_count": 5,
   "metadata": {},
   "outputs": [],
   "source": [
    "#Variables\n",
    "#Generales\n",
    "tiempos = []\n",
    "tiempo = 60\n",
    "lambda_max = 2400\n",
    "\n",
    "#Gorilla\n",
    "solicitudes_Gorilla = 100\n",
    "\n",
    "#Ants\n",
    "solicitudes_Ants = solicitudes_Gorilla/10\n",
    "servidores_Ants = 10"
   ]
  },
  {
   "cell_type": "code",
   "execution_count": 6,
   "metadata": {
    "tags": []
   },
   "outputs": [],
   "source": [
    "tiempos_llegadas, tiempos_salidas, llegadas, salidas, clientes, siguiente_llegada, salidas_server, tiempo_espera, tiempo_ocupado = simulacion(tiempo, lambda_max, (1 / (solicitudes_Ants * 60)), servidores_Ants)"
   ]
  },
  {
   "cell_type": "code",
   "execution_count": 7,
   "metadata": {
    "tags": []
   },
   "outputs": [
    {
     "name": "stdout",
     "output_type": "stream",
     "text": [
      "Duracion: 60\n",
      " -- Solicitudes atentidas (143854.0):\n",
      "\tServer 1: 28679.0\n",
      "\tServer 2: 26614.0\n",
      "\tServer 3: 23839.0\n",
      "\tServer 4: 20136.0\n",
      "\tServer 5: 16093.0\n",
      "\tServer 6: 11937.0\n",
      "\tServer 7: 7942.0\n",
      "\tServer 8: 4825.0\n",
      "\tServer 9: 2534.0\n",
      "\tServer 10: 1255.0\n",
      " -- Tiempo de server ocupado:\n",
      "\tServer 1: 48.1\n",
      "\tServer 2: 44.35\n",
      "\tServer 3: 39.52\n",
      "\tServer 4: 33.93\n",
      "\tServer 5: 27.05\n",
      "\tServer 6: 19.58\n",
      "\tServer 7: 12.96\n",
      "\tServer 8: 7.88\n",
      "\tServer 9: 4.34\n",
      "\tServer 10: 2.0\n",
      " -- Tiempo de server desocupado:\n",
      "\tServer 1: 12.0\n",
      "\tServer 2: 16.0\n",
      "\tServer 3: 20.0\n",
      "\tServer 4: 26.0\n",
      "\tServer 5: 33.0\n",
      "\tServer 6: 40.0\n",
      "\tServer 7: 47.0\n",
      "\tServer 8: 52.0\n",
      "\tServer 9: 56.0\n",
      "\tServer 10: 58.0\n",
      " -- Tiempo de solicitudes en cola: 0.2037064290253998\n",
      " -- Tiempo promedio de solicitudes en cola: 1.4160440233664205e-06\n",
      " -- Promedio de solicitudes en cola por segundo: 1249.8241087361405\n",
      " -- Momento de la ultima salida: inf\n"
     ]
    }
   ],
   "source": [
    "print('Duracion:', tiempo)\n",
    "print(' -- Solicitudes atentidas (' + str(sum(salidas)) + '):')\n",
    "for salida in range(len(salidas)):\n",
    "    print('\\tServer ' + str(salida + 1) + ': ' + str(salidas[salida]))\n",
    "\n",
    "print(' -- Tiempo de server ocupado:')\n",
    "for ocupado in range(len(tiempo_ocupado)):\n",
    "    print('\\tServer ' + str(ocupado + 1) + ': ' + str(np.round(tiempo_ocupado[ocupado], 2)))\n",
    "\n",
    "print(' -- Tiempo de server desocupado:')\n",
    "for s in range(len(np.ones(servidores_Ants))):\n",
    "    print('\\tServer ' + str(s + 1) + ': ' + str(np.round(np.maximum(np.ones(servidores_Ants) * tiempo  - tiempo_ocupado, 0)[s])))\n",
    "    \n",
    "print(' -- Tiempo de solicitudes en cola:', sum(tiempo_espera))\n",
    "print(' -- Tiempo promedio de solicitudes en cola:', np.mean(tiempo_espera))\n",
    "print(' -- Promedio de solicitudes en cola por segundo:', np.mean([1/i if i > 0 else 0 for i in tiempo_espera]))\n",
    "print(' -- Momento de la ultima salida:', salidas_server[-1])"
   ]
  },
  {
   "cell_type": "markdown",
   "metadata": {},
   "source": [
    "## Task 2"
   ]
  },
  {
   "cell_type": "markdown",
   "metadata": {},
   "source": [
    "### ¿Cuántos servidores son necesarios para que ninguna solicitud tenga que esperar?"
   ]
  },
  {
   "cell_type": "code",
   "execution_count": 8,
   "metadata": {
    "tags": []
   },
   "outputs": [
    {
     "name": "stdout",
     "output_type": "stream",
     "text": [
      "10 aun tiene tiempo de espera\n",
      "11 aun tiene tiempo de espera\n",
      "12 aun tiene tiempo de espera\n",
      "13 aun tiene tiempo de espera\n",
      "14 aun tiene tiempo de espera\n",
      "15 aun tiene tiempo de espera\n",
      "16 es una cantidad de servidores válida\n",
      "17 aun tiene tiempo de espera\n",
      "18 es una cantidad de servidores válida\n",
      "19 es una cantidad de servidores válida\n",
      "20 es una cantidad de servidores válida\n"
     ]
    }
   ],
   "source": [
    "#Variables\n",
    "#Generales\n",
    "tiempos = []\n",
    "tiempo = 60\n",
    "lambda_max = 2400\n",
    "\n",
    "#Gorilla\n",
    "solicitudes_Gorilla = 100\n",
    "\n",
    "#Ants\n",
    "solicitudes_Ants = solicitudes_Gorilla/10\n",
    "servidores_Ants = np.arange(10, 21)\n",
    "\n",
    "for servidor_ant in servidores_Ants:\n",
    "    tiempos_llegadas, tiempos_salidas, llegadas, salidas, clientes, siguiente_llegada, salidas_server, tiempo_espera, tiempo_ocupado = simulacion(tiempo, lambda_max, (1 / (solicitudes_Ants * 60)), servidor_ant)\n",
    "\n",
    "    if sum(tiempo_espera) > 0.0001:\n",
    "        print(servidor_ant, 'aun tiene tiempo de espera')\n",
    "    else:\n",
    "        print(servidor_ant, 'es una cantidad de servidores válida')"
   ]
  },
  {
   "cell_type": "markdown",
   "metadata": {},
   "source": [
    "## Task 3 y 4"
   ]
  },
  {
   "cell_type": "markdown",
   "metadata": {},
   "source": [
    "### Gorilla Megacomputing"
   ]
  },
  {
   "cell_type": "code",
   "execution_count": 14,
   "metadata": {},
   "outputs": [],
   "source": [
    "#Variables\n",
    "#Generales\n",
    "tiempos = []\n",
    "tiempo = 60\n",
    "lambda_max = 6000\n",
    "#Gorilla\n",
    "solicitudes_Gorilla = 100\n",
    "servidores_Gorilla = 1"
   ]
  },
  {
   "cell_type": "code",
   "execution_count": 15,
   "metadata": {},
   "outputs": [],
   "source": [
    "tiempos_llegadas, tiempos_salidas, llegadas, salidas, clientes, siguiente_llegada, salidas_server, tiempo_espera, tiempo_ocupado = simulacion(tiempo, lambda_max, 1 / (solicitudes_Gorilla * 60), servidores_Gorilla)"
   ]
  },
  {
   "cell_type": "code",
   "execution_count": 16,
   "metadata": {
    "tags": []
   },
   "outputs": [
    {
     "name": "stdout",
     "output_type": "stream",
     "text": [
      "Duracion: 60\n",
      " -- Solicitudes atentidas: 359245.0\n",
      " -- Tiempo de server ocupado: 59.79380342088074\n",
      " -- Tiempo de server desocupado: 0.2061965791192577\n",
      " -- Tiempo de solicitudes en cola: 59.305295464400245\n",
      " -- Tiempo promedio de solicitudes en cola: 0.00016508268836507644\n",
      " -- Promedio de solicitudes en cola por segundo: 1658231.2766042189\n",
      " -- Momento de la ultima salida: 60.000097408739066\n"
     ]
    }
   ],
   "source": [
    "print('Duracion:', tiempo)\n",
    "print(' -- Solicitudes atentidas:', salidas[0])\n",
    "print(' -- Tiempo de server ocupado:', tiempo_ocupado[0])\n",
    "print(' -- Tiempo de server desocupado:', np.maximum(np.ones(servidores_Gorilla) * tiempo  - tiempo_ocupado, 0)[0])\n",
    "print(' -- Tiempo de solicitudes en cola:', sum(tiempo_espera))\n",
    "print(' -- Tiempo promedio de solicitudes en cola:', np.mean(tiempo_espera))\n",
    "print(' -- Promedio de solicitudes en cola por segundo:', np.mean([1/i if i > 0 else 0 for i in tiempo_espera]))\n",
    "print(' -- Momento de la ultima salida:', salidas_server[-1])"
   ]
  },
  {
   "cell_type": "code",
   "execution_count": null,
   "metadata": {},
   "outputs": [],
   "source": []
  },
  {
   "cell_type": "code",
   "execution_count": 17,
   "metadata": {},
   "outputs": [],
   "source": [
    "#Variables\n",
    "#Generales\n",
    "tiempos = []\n",
    "tiempo = 60\n",
    "lambda_max = 6000\n",
    "\n",
    "#Gorilla\n",
    "solicitudes_Gorilla = 100\n",
    "\n",
    "#Ants\n",
    "solicitudes_Ants = solicitudes_Gorilla/10\n",
    "servidores_Ants = 10"
   ]
  },
  {
   "cell_type": "code",
   "execution_count": 18,
   "metadata": {},
   "outputs": [],
   "source": [
    "tiempos_llegadas, tiempos_salidas, llegadas, salidas, clientes, siguiente_llegada, salidas_server, tiempo_espera, tiempo_ocupado = simulacion(tiempo, lambda_max, (1 / (solicitudes_Ants * 60)), servidores_Ants)"
   ]
  },
  {
   "cell_type": "code",
   "execution_count": 19,
   "metadata": {
    "tags": []
   },
   "outputs": [
    {
     "name": "stdout",
     "output_type": "stream",
     "text": [
      "Duracion: 60\n",
      " -- Solicitudes atentidas (359487.0):\n",
      "\tServer 1: 36063.0\n",
      "\tServer 2: 35786.0\n",
      "\tServer 3: 35978.0\n",
      "\tServer 4: 35977.0\n",
      "\tServer 5: 35770.0\n",
      "\tServer 6: 35729.0\n",
      "\tServer 7: 36115.0\n",
      "\tServer 8: 36097.0\n",
      "\tServer 9: 36070.0\n",
      "\tServer 10: 35902.0\n",
      " -- Tiempo de server ocupado:\n",
      "\tServer 1: 59.96\n",
      "\tServer 2: 59.96\n",
      "\tServer 3: 59.95\n",
      "\tServer 4: 59.94\n",
      "\tServer 5: 59.94\n",
      "\tServer 6: 59.93\n",
      "\tServer 7: 59.91\n",
      "\tServer 8: 59.89\n",
      "\tServer 9: 59.86\n",
      "\tServer 10: 59.84\n",
      " -- Tiempo de server desocupado:\n",
      "\tServer 1: 0.0\n",
      "\tServer 2: 0.0\n",
      "\tServer 3: 0.0\n",
      "\tServer 4: 0.0\n",
      "\tServer 5: 0.0\n",
      "\tServer 6: 0.0\n",
      "\tServer 7: 0.0\n",
      "\tServer 8: 0.0\n",
      "\tServer 9: 0.0\n",
      "\tServer 10: 0.0\n",
      " -- Tiempo de solicitudes en cola: 59.49757575186916\n",
      " -- Tiempo promedio de solicitudes en cola: 0.0001655022872287367\n",
      " -- Promedio de solicitudes en cola por segundo: 77893.9237352549\n",
      " -- Momento de la ultima salida: 60.00139403937856\n"
     ]
    }
   ],
   "source": [
    "print('Duracion:', tiempo)\n",
    "print(' -- Solicitudes atentidas (' + str(sum(salidas)) + '):')\n",
    "for salida in range(len(salidas)):\n",
    "    print('\\tServer ' + str(salida + 1) + ': ' + str(salidas[salida]))\n",
    "\n",
    "print(' -- Tiempo de server ocupado:')\n",
    "for ocupado in range(len(tiempo_ocupado)):\n",
    "    print('\\tServer ' + str(ocupado + 1) + ': ' + str(np.round(tiempo_ocupado[ocupado], 2)))\n",
    "\n",
    "print(' -- Tiempo de server desocupado:')\n",
    "for s in range(len(np.ones(servidores_Ants))):\n",
    "    print('\\tServer ' + str(s + 1) + ': ' + str(np.round(np.maximum(np.ones(servidores_Ants) * tiempo  - tiempo_ocupado, 0)[s])))\n",
    "    \n",
    "print(' -- Tiempo de solicitudes en cola:', sum(tiempo_espera))\n",
    "print(' -- Tiempo promedio de solicitudes en cola:', np.mean(tiempo_espera))\n",
    "print(' -- Promedio de solicitudes en cola por segundo:', np.mean([1/i if i > 0 else 0 for i in tiempo_espera]))\n",
    "print(' -- Momento de la ultima salida:', salidas_server[-1])"
   ]
  },
  {
   "cell_type": "code",
   "execution_count": 20,
   "metadata": {
    "tags": []
   },
   "outputs": [
    {
     "name": "stdout",
     "output_type": "stream",
     "text": [
      "10 aun tiene tiempo de espera\n",
      "11 aun tiene tiempo de espera\n",
      "12 aun tiene tiempo de espera\n",
      "13 aun tiene tiempo de espera\n",
      "14 aun tiene tiempo de espera\n",
      "15 aun tiene tiempo de espera\n",
      "16 aun tiene tiempo de espera\n",
      "17 aun tiene tiempo de espera\n",
      "18 aun tiene tiempo de espera\n",
      "19 aun tiene tiempo de espera\n",
      "20 aun tiene tiempo de espera\n"
     ]
    }
   ],
   "source": [
    "#Variables\n",
    "#Generales\n",
    "tiempos = []\n",
    "tiempo = 60\n",
    "lambda_max = 6000\n",
    "\n",
    "#Gorilla\n",
    "solicitudes_Gorilla = 100\n",
    "\n",
    "#Ants\n",
    "solicitudes_Ants = solicitudes_Gorilla/10\n",
    "servidores_Ants = np.arange(20, 31)\n",
    "\n",
    "for servidor_ant in servidores_Ants:\n",
    "    tiempos_llegadas, tiempos_salidas, llegadas, salidas, clientes, siguiente_llegada, salidas_server, tiempo_espera, tiempo_ocupado = simulacion(tiempo, lambda_max, (1 / (solicitudes_Ants * 60)), servidor_ant)\n",
    "\n",
    "    print('ESPERA:', sum(tiempo_espera))\n",
    "    if sum(tiempo_espera) > 0.0001:\n",
    "        print(servidor_ant, 'aun tiene tiempo de espera')\n",
    "    else:\n",
    "        print(servidor_ant, 'es una cantidad de servidores válida')"
   ]
  },
  {
   "cell_type": "markdown",
   "metadata": {},
   "source": [
    "## Task 5"
   ]
  },
  {
   "cell_type": "markdown",
   "metadata": {},
   "source": [
    "KJAklf"
   ]
  }
 ],
 "metadata": {
  "kernelspec": {
   "display_name": "Python 3.8.2 64-bit",
   "metadata": {
    "interpreter": {
     "hash": "b4c27b7690ca363ee6e14a25e93298ce4876c35662caa9406235c525ccf8df87"
    }
   },
   "name": "Python 3.8.2 64-bit"
  },
  "language_info": {
   "codemirror_mode": {
    "name": "ipython",
    "version": 3
   },
   "file_extension": ".py",
   "mimetype": "text/x-python",
   "name": "python",
   "nbconvert_exporter": "python",
   "pygments_lexer": "ipython3",
   "version": "3.8.2-final"
  }
 },
 "nbformat": 4,
 "nbformat_minor": 4
}
