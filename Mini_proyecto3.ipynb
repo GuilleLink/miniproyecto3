{
 "cells": [
  {
   "cell_type": "markdown",
   "metadata": {},
   "source": [
    "# Miniproyecto 3"
   ]
  },
  {
   "cell_type": "markdown",
   "metadata": {},
   "source": [
    "### Imports"
   ]
  },
  {
   "cell_type": "code",
   "execution_count": 1,
   "metadata": {
    "tags": []
   },
   "outputs": [],
   "source": [
    "import numpy as np\n",
    "import random\n",
    "import math\n",
    "\n",
    "from utilities import *"
   ]
  },
  {
   "cell_type": "markdown",
   "metadata": {},
   "source": [
    "## Task 1"
   ]
  },
  {
   "cell_type": "markdown",
   "metadata": {},
   "source": [
    "### Gorilla Megacomputing"
   ]
  },
  {
   "cell_type": "code",
   "execution_count": 2,
   "metadata": {},
   "outputs": [],
   "source": [
    "#Variables\n",
    "#Generales\n",
    "tiempos = []\n",
    "tiempo = 60\n",
    "lambda_max = 2400\n",
    "#Gorilla\n",
    "solicitudes_Gorilla = 100\n",
    "servidores_Gorilla = 1"
   ]
  },
  {
   "cell_type": "code",
   "execution_count": 3,
   "metadata": {
    "tags": []
   },
   "outputs": [],
   "source": [
    "tiempos_llegadas, tiempos_salidas, llegadas, salidas, clientes, siguiente_llegada, salidas_server, tiempo_espera, tiempo_ocupado = simulacion(tiempo, lambda_max, 1 / (solicitudes_Gorilla * 60), servidores_Gorilla)"
   ]
  },
  {
   "cell_type": "code",
   "execution_count": 4,
   "metadata": {
    "tags": []
   },
   "outputs": [
    {
     "output_type": "stream",
     "name": "stdout",
     "text": "Duracion: 60\n -- Solicitudes atentidas: 143980.0\n -- Tiempo de server ocupado: 59.94712927197487\n -- Tiempo de server desocupado: 0.05287072802512682\n -- Tiempo de solicitudes en cola: 59.74666317584032\n -- Tiempo promedio de solicitudes en cola: 0.0004149621351139409\n -- Promedio de solicitudes en cola por segundo: 24253.29264159269\n -- Momento de la ultima salida: 60.00055350828756\n"
    }
   ],
   "source": [
    "print('Duracion:', tiempo)\n",
    "print(' -- Solicitudes atentidas:', salidas[0])\n",
    "print(' -- Tiempo de server ocupado:', tiempo_ocupado[0])\n",
    "print(' -- Tiempo de server desocupado:', np.maximum(np.ones(servidores_Gorilla) * tiempo  - tiempo_ocupado, 0)[0])\n",
    "print(' -- Tiempo de solicitudes en cola:', sum(tiempo_espera))\n",
    "print(' -- Tiempo promedio de solicitudes en cola:', np.mean(tiempo_espera))\n",
    "print(' -- Promedio de solicitudes en cola por segundo:', np.mean([1/i if i > 0 else 0 for i in tiempo_espera]))\n",
    "print(' -- Momento de la ultima salida:', salidas_server[-1])"
   ]
  },
  {
   "cell_type": "markdown",
   "metadata": {},
   "source": [
    "### Ants smart computing"
   ]
  },
  {
   "cell_type": "code",
   "execution_count": 5,
   "metadata": {},
   "outputs": [],
   "source": [
    "#Variables\n",
    "#Generales\n",
    "tiempos = []\n",
    "tiempo = 60\n",
    "lambda_max = 2400\n",
    "\n",
    "#Gorilla\n",
    "solicitudes_Gorilla = 100\n",
    "\n",
    "#Ants\n",
    "solicitudes_Ants = solicitudes_Gorilla/10\n",
    "servidores_Ants = 10"
   ]
  },
  {
   "cell_type": "code",
   "execution_count": 6,
   "metadata": {
    "tags": []
   },
   "outputs": [],
   "source": [
    "tiempos_llegadas, tiempos_salidas, llegadas, salidas, clientes, siguiente_llegada, salidas_server, tiempo_espera, tiempo_ocupado = simulacion(tiempo, lambda_max, (1 / (solicitudes_Ants * 60)), servidores_Ants)"
   ]
  },
  {
   "cell_type": "code",
   "execution_count": 7,
   "metadata": {
    "tags": []
   },
   "outputs": [
    {
     "output_type": "stream",
     "name": "stdout",
     "text": "Duracion: 60\n -- Solicitudes atentidas (143748.0):\n\tServer 1: 71978.0\n\tServer 2: 43040.0\n\tServer 3: 19868.0\n\tServer 4: 6721.0\n\tServer 5: 1705.0\n\tServer 6: 369.0\n\tServer 7: 56.0\n\tServer 8: 10.0\n\tServer 9: 1.0\n\tServer 10: 0.0\n -- Tiempo de server ocupado:\n\tServer 1: 29.94\n\tServer 2: 18.09\n\tServer 3: 8.21\n\tServer 4: 2.86\n\tServer 5: 0.71\n\tServer 6: 0.16\n\tServer 7: 0.02\n\tServer 8: 0.0\n\tServer 9: 0.0\n\tServer 10: 0.0\n -- Tiempo de server desocupado:\n\tServer 1: 30.0\n\tServer 2: 42.0\n\tServer 3: 52.0\n\tServer 4: 57.0\n\tServer 5: 59.0\n\tServer 6: 60.0\n\tServer 7: 60.0\n\tServer 8: 60.0\n\tServer 9: 60.0\n\tServer 10: 60.0\n -- Tiempo de solicitudes en cola: 0.0\n -- Tiempo promedio de solicitudes en cola: 0.0\n -- Promedio de solicitudes en cola por segundo: 0.0\n -- Momento de la ultima salida: inf\n"
    }
   ],
   "source": [
    "print('Duracion:', tiempo)\n",
    "print(' -- Solicitudes atentidas (' + str(sum(salidas)) + '):')\n",
    "for salida in range(len(salidas)):\n",
    "    print('\\tServer ' + str(salida + 1) + ': ' + str(salidas[salida]))\n",
    "\n",
    "print(' -- Tiempo de server ocupado:')\n",
    "for ocupado in range(len(tiempo_ocupado)):\n",
    "    print('\\tServer ' + str(ocupado + 1) + ': ' + str(np.round(tiempo_ocupado[ocupado], 2)))\n",
    "\n",
    "print(' -- Tiempo de server desocupado:')\n",
    "for s in range(len(np.ones(servidores_Ants))):\n",
    "    print('\\tServer ' + str(s + 1) + ': ' + str(np.round(np.maximum(np.ones(servidores_Ants) * tiempo  - tiempo_ocupado, 0)[s])))\n",
    "    \n",
    "print(' -- Tiempo de solicitudes en cola:', sum(tiempo_espera))\n",
    "print(' -- Tiempo promedio de solicitudes en cola:', np.mean(tiempo_espera))\n",
    "print(' -- Promedio de solicitudes en cola por segundo:', np.mean([1/i if i > 0 else 0 for i in tiempo_espera]))\n",
    "print(' -- Momento de la ultima salida:', salidas_server[-1])"
   ]
  },
  {
   "cell_type": "markdown",
   "metadata": {},
   "source": [
    "## Task 2"
   ]
  },
  {
   "cell_type": "markdown",
   "metadata": {},
   "source": [
    "### ¿Cuántos servidores son necesarios para que ninguna solicitud tenga que esperar?"
   ]
  },
  {
   "cell_type": "code",
   "execution_count": 8,
   "metadata": {
    "tags": []
   },
   "outputs": [
    {
     "output_type": "stream",
     "name": "stdout",
     "text": "10 es una cantidad de servidores válida\n11 es una cantidad de servidores válida\n12 es una cantidad de servidores válida\n13 es una cantidad de servidores válida\n14 es una cantidad de servidores válida\n15 es una cantidad de servidores válida\n16 es una cantidad de servidores válida\n17 es una cantidad de servidores válida\n18 es una cantidad de servidores válida\n19 es una cantidad de servidores válida\n20 es una cantidad de servidores válida\n"
    }
   ],
   "source": [
    "#Variables\n",
    "#Generales\n",
    "tiempos = []\n",
    "tiempo = 60\n",
    "lambda_max = 2400\n",
    "\n",
    "#Gorilla\n",
    "solicitudes_Gorilla = 100\n",
    "\n",
    "#Ants\n",
    "solicitudes_Ants = solicitudes_Gorilla/10\n",
    "servidores_Ants = np.arange(10, 21)\n",
    "\n",
    "for servidor_ant in servidores_Ants:\n",
    "    tiempos_llegadas, tiempos_salidas, llegadas, salidas, clientes, siguiente_llegada, salidas_server, tiempo_espera, tiempo_ocupado = simulacion(tiempo, lambda_max, (1 / (solicitudes_Ants * 60)), servidor_ant)\n",
    "\n",
    "    if sum(tiempo_espera) > 0.0001:\n",
    "        print(servidor_ant, 'aun tiene tiempo de espera')\n",
    "    else:\n",
    "        print(servidor_ant, 'es una cantidad de servidores válida')"
   ]
  },
  {
   "cell_type": "markdown",
   "metadata": {},
   "source": [
    "## Task 3 y 4"
   ]
  },
  {
   "cell_type": "markdown",
   "metadata": {},
   "source": [
    "### Gorilla Megacomputing"
   ]
  },
  {
   "cell_type": "code",
   "execution_count": 9,
   "metadata": {},
   "outputs": [],
   "source": [
    "#Variables\n",
    "#Generales\n",
    "tiempos = []\n",
    "tiempo = 60\n",
    "lambda_max = 6000\n",
    "#Gorilla\n",
    "solicitudes_Gorilla = 100\n",
    "servidores_Gorilla = 1"
   ]
  },
  {
   "cell_type": "code",
   "execution_count": 10,
   "metadata": {},
   "outputs": [],
   "source": [
    "tiempos_llegadas, tiempos_salidas, llegadas, salidas, clientes, siguiente_llegada, salidas_server, tiempo_espera, tiempo_ocupado = simulacion(tiempo, lambda_max, 1 / (solicitudes_Gorilla * 60), servidores_Gorilla)"
   ]
  },
  {
   "cell_type": "code",
   "execution_count": 11,
   "metadata": {
    "tags": []
   },
   "outputs": [
    {
     "output_type": "stream",
     "name": "stdout",
     "text": "Duracion: 60\n -- Solicitudes atentidas: 359469.0\n -- Tiempo de server ocupado: 59.95576908155524\n -- Tiempo de server desocupado: 0.0442309184447609\n -- Tiempo de solicitudes en cola: 59.46617549448327\n -- Tiempo promedio de solicitudes en cola: 0.00016542736666337463\n -- Promedio de solicitudes en cola por segundo: 67539.06175372003\n -- Momento de la ultima salida: 60.0003530956972\n"
    }
   ],
   "source": [
    "print('Duracion:', tiempo)\n",
    "print(' -- Solicitudes atentidas:', salidas[0])\n",
    "print(' -- Tiempo de server ocupado:', tiempo_ocupado[0])\n",
    "print(' -- Tiempo de server desocupado:', np.maximum(np.ones(servidores_Gorilla) * tiempo  - tiempo_ocupado, 0)[0])\n",
    "print(' -- Tiempo de solicitudes en cola:', sum(tiempo_espera))\n",
    "print(' -- Tiempo promedio de solicitudes en cola:', np.mean(tiempo_espera))\n",
    "print(' -- Promedio de solicitudes en cola por segundo:', np.mean([1/i if i > 0 else 0 for i in tiempo_espera]))\n",
    "print(' -- Momento de la ultima salida:', salidas_server[-1])"
   ]
  },
  {
   "source": [
    "### Ants smart computing"
   ],
   "cell_type": "markdown",
   "metadata": {}
  },
  {
   "cell_type": "code",
   "execution_count": 12,
   "metadata": {},
   "outputs": [],
   "source": [
    "#Variables\n",
    "#Generales\n",
    "tiempos = []\n",
    "tiempo = 60\n",
    "lambda_max = 6000\n",
    "\n",
    "#Gorilla\n",
    "solicitudes_Gorilla = 100\n",
    "\n",
    "#Ants\n",
    "solicitudes_Ants = solicitudes_Gorilla/10\n",
    "servidores_Ants = 10"
   ]
  },
  {
   "cell_type": "code",
   "execution_count": 13,
   "metadata": {},
   "outputs": [],
   "source": [
    "tiempos_llegadas, tiempos_salidas, llegadas, salidas, clientes, siguiente_llegada, salidas_server, tiempo_espera, tiempo_ocupado = simulacion(tiempo, lambda_max, (1 / (solicitudes_Ants * 60)), servidores_Ants)"
   ]
  },
  {
   "cell_type": "code",
   "execution_count": 14,
   "metadata": {
    "tags": []
   },
   "outputs": [
    {
     "output_type": "stream",
     "name": "stdout",
     "text": "Duracion: 60\n -- Solicitudes atentidas (360163.0):\n\tServer 1: 179839.0\n\tServer 2: 108077.0\n\tServer 3: 49636.0\n\tServer 4: 17137.0\n\tServer 5: 4401.0\n\tServer 6: 908.0\n\tServer 7: 138.0\n\tServer 8: 25.0\n\tServer 9: 2.0\n\tServer 10: 0.0\n -- Tiempo de server ocupado:\n\tServer 1: 30.0\n\tServer 2: 18.0\n\tServer 3: 8.25\n\tServer 4: 2.84\n\tServer 5: 0.73\n\tServer 6: 0.15\n\tServer 7: 0.02\n\tServer 8: 0.0\n\tServer 9: 0.0\n\tServer 10: 0.0\n -- Tiempo de server desocupado:\n\tServer 1: 30.0\n\tServer 2: 42.0\n\tServer 3: 52.0\n\tServer 4: 57.0\n\tServer 5: 59.0\n\tServer 6: 60.0\n\tServer 7: 60.0\n\tServer 8: 60.0\n\tServer 9: 60.0\n\tServer 10: 60.0\n -- Tiempo de solicitudes en cola: 0.0\n -- Tiempo promedio de solicitudes en cola: 0.0\n -- Promedio de solicitudes en cola por segundo: 0.0\n -- Momento de la ultima salida: inf\n"
    }
   ],
   "source": [
    "print('Duracion:', tiempo)\n",
    "print(' -- Solicitudes atentidas (' + str(sum(salidas)) + '):')\n",
    "for salida in range(len(salidas)):\n",
    "    print('\\tServer ' + str(salida + 1) + ': ' + str(salidas[salida]))\n",
    "\n",
    "print(' -- Tiempo de server ocupado:')\n",
    "for ocupado in range(len(tiempo_ocupado)):\n",
    "    print('\\tServer ' + str(ocupado + 1) + ': ' + str(np.round(tiempo_ocupado[ocupado], 2)))\n",
    "\n",
    "print(' -- Tiempo de server desocupado:')\n",
    "for s in range(len(np.ones(servidores_Ants))):\n",
    "    print('\\tServer ' + str(s + 1) + ': ' + str(np.round(np.maximum(np.ones(servidores_Ants) * tiempo  - tiempo_ocupado, 0)[s])))\n",
    "    \n",
    "print(' -- Tiempo de solicitudes en cola:', sum(tiempo_espera))\n",
    "print(' -- Tiempo promedio de solicitudes en cola:', np.mean(tiempo_espera))\n",
    "print(' -- Promedio de solicitudes en cola por segundo:', np.mean([1/i if i > 0 else 0 for i in tiempo_espera]))\n",
    "print(' -- Momento de la ultima salida:', salidas_server[-1])"
   ]
  },
  {
   "cell_type": "code",
   "execution_count": 16,
   "metadata": {
    "tags": []
   },
   "outputs": [
    {
     "output_type": "stream",
     "name": "stdout",
     "text": "8 es una cantidad de servidores válida\n9 es una cantidad de servidores válida\n10 es una cantidad de servidores válida\n11 es una cantidad de servidores válida\n12 es una cantidad de servidores válida\n13 es una cantidad de servidores válida\n14 es una cantidad de servidores válida\n15 es una cantidad de servidores válida\n16 es una cantidad de servidores válida\n17 es una cantidad de servidores válida\n18 es una cantidad de servidores válida\n19 es una cantidad de servidores válida\n20 es una cantidad de servidores válida\n"
    }
   ],
   "source": [
    "#Variables\n",
    "#Generales\n",
    "tiempos = []\n",
    "tiempo = 60\n",
    "lambda_max = 6000\n",
    "\n",
    "#Gorilla\n",
    "solicitudes_Gorilla = 100\n",
    "\n",
    "#Ants\n",
    "solicitudes_Ants = solicitudes_Gorilla/10\n",
    "servidores_Ants = np.arange(8, 21)\n",
    "\n",
    "for servidor_ant in servidores_Ants:\n",
    "    tiempos_llegadas, tiempos_salidas, llegadas, salidas, clientes, siguiente_llegada, salidas_server, tiempo_espera, tiempo_ocupado = simulacion(tiempo, lambda_max, (1 / (solicitudes_Ants * 60)), servidor_ant)\n",
    "\n",
    "    if sum(tiempo_espera) > 0.0001:\n",
    "        print(servidor_ant, 'aun tiene tiempo de espera')\n",
    "    else:\n",
    "        print(servidor_ant, 'es una cantidad de servidores válida')"
   ]
  },
  {
   "cell_type": "markdown",
   "metadata": {},
   "source": [
    "## Task 5"
   ]
  },
  {
   "cell_type": "markdown",
   "metadata": {},
   "source": [
    "### Decision final"
   ]
  },
  {
   "cell_type": "markdown",
   "metadata": {},
   "source": [
    "* El proveedor 1 tiene la limitante que su infraestructura es de un servidor único, mientras que el proveedor 2 (Ants Smart Computing) tiene una infraestructura multiservidores por lo cuál se puede ampliar a conveniencia si es necesario.\n",
    "* Haciendo pruebas con 10 servidores con el proveedor 2 supera al proveedor 1 en las solicitudes atendidas en los mismos plazos de tiempo. Además que con el proveedor 2 se reduce la cantidad de tiempo que se mantienen los servidores desocupados, permitiendo que pasen mayor tiempo efectuando transacciones. \n",
    "* Se puede observar que con 28 servidores al momento del crecimiento con un lambda de 6000 es suficiente para poder atender todas las solicitudes sin que se mantengan en tiempo de espera. Mientras que para tener un lambda de 2400 con 16 era suficiente para cubrir esto, por lo que esta capacidad de crecimiento y que no es lineal necesitar un servidor por x cantidad de solicitudes se puede confirmar que la mejor opción es el proveedor 2."
   ]
  },
  {
   "cell_type": "markdown",
   "metadata": {},
   "source": [
    "### Contratar a Ants Smart Computing"
   ]
  },
  {
   "cell_type": "markdown",
   "metadata": {},
   "source": [
    "(Suponiendo que el dinero no es problema y que es más barato cada servidor de ASC)"
   ]
  }
 ],
 "metadata": {
  "kernelspec": {
   "name": "Python 3.8.2 64-bit",
   "display_name": "Python 3.8.2 64-bit",
   "metadata": {
    "interpreter": {
     "hash": "b4c27b7690ca363ee6e14a25e93298ce4876c35662caa9406235c525ccf8df87"
    }
   }
  },
  "language_info": {
   "codemirror_mode": {
    "name": "ipython",
    "version": 3
   },
   "file_extension": ".py",
   "mimetype": "text/x-python",
   "name": "python",
   "nbconvert_exporter": "python",
   "pygments_lexer": "ipython3",
   "version": "3.8.2-final"
  }
 },
 "nbformat": 4,
 "nbformat_minor": 4
}