{
 "cells": [
  {
   "cell_type": "markdown",
   "metadata": {},
   "source": [
    "# Miniproyecto 3"
   ]
  },
  {
   "cell_type": "markdown",
   "metadata": {},
   "source": [
    "### Imports"
   ]
  },
  {
   "cell_type": "code",
   "execution_count": 1,
   "metadata": {
    "tags": []
   },
   "outputs": [],
   "source": [
    "import numpy as np\n",
    "import random\n",
    "import math\n",
    "\n",
    "from utilities import *"
   ]
  },
  {
   "cell_type": "markdown",
   "metadata": {},
   "source": [
    "## Task 1"
   ]
  },
  {
   "source": [
    "## Gorilla Megacomputing"
   ],
   "cell_type": "markdown",
   "metadata": {}
  },
  {
   "cell_type": "code",
   "execution_count": 2,
   "metadata": {},
   "outputs": [],
   "source": [
    "#Variables\n",
    "#Generales\n",
    "tiempos = []\n",
    "tiempo = 60\n",
    "lambda_max = 2400\n",
    "#Gorilla\n",
    "solicitudes_Gorilla = 100\n",
    "servidores_Gorilla = 1"
   ]
  },
  {
   "cell_type": "code",
   "execution_count": 3,
   "metadata": {
    "tags": []
   },
   "outputs": [],
   "source": [
    "tiempos_llegadas, tiempos_salidas, llegadas, salidas, clientes, siguiente_llegada, salidas_server, tiempo_espera, tiempo_ocupado = simulacion(tiempo, lambda_max, 1 / (solicitudes_Gorilla * 60), servidores_Gorilla)"
   ]
  },
  {
   "source": [
    "print('Duracion:', tiempo)\n",
    "print(' -- Solicitudes atentidas:', salidas[0])\n",
    "print(' -- Tiempo de server ocupado:', tiempo_ocupado[0])\n",
    "print(' -- Tiempo de server desocupado:', np.maximum(np.ones(servidores_Gorilla) * tiempo  - tiempo_ocupado, 0))\n",
    "print(' -- Tiempo de solicitudes en cola:', sum(tiempo_espera))\n",
    "print(' -- Tiempo promedio de solicitudes en cola:', np.mean(tiempo_espera))\n",
    "print(' -- Promedio de solicitudes en cola por segundo:', np.mean([1/i if i > 0 else 0 for i in tiempo_espera]))\n",
    "print(' -- Momento de la ultima salida:', salidas_server[-1])"
   ],
   "cell_type": "code",
   "metadata": {
    "tags": []
   },
   "execution_count": 4,
   "outputs": [
    {
     "output_type": "stream",
     "name": "stdout",
     "text": "Duracion: 60\n -- Solicitudes atentidas: 143939.0\n -- Tiempo de server ocupado: 24.18658569336801\n -- Tiempo de server desocupado: [35.81341431]\n -- Tiempo de solicitudes en cola: 9.692411945926828\n -- Tiempo promedio de solicitudes en cola: 6.733694096754061e-05\n -- Promedio de solicitudes en cola por segundo: 56542.992007225475\n -- Momento de la ultima salida: inf\n"
    }
   ]
  },
  {
   "source": [
    "## Ants smart computing"
   ],
   "cell_type": "markdown",
   "metadata": {}
  },
  {
   "cell_type": "code",
   "execution_count": 5,
   "metadata": {},
   "outputs": [],
   "source": [
    "#Variables\n",
    "#Generales\n",
    "tiempos = []\n",
    "tiempo = 60\n",
    "lambda_max = 2400\n",
    "\n",
    "#Gorilla\n",
    "solicitudes_Gorilla = 100\n",
    "\n",
    "#Ants\n",
    "solicitudes_Ants = solicitudes_Gorilla/10\n",
    "servidores_Ants = 10"
   ]
  },
  {
   "cell_type": "code",
   "execution_count": 6,
   "metadata": {
    "tags": []
   },
   "outputs": [],
   "source": [
    "tiempos_llegadas, tiempos_salidas, llegadas, salidas, clientes, siguiente_llegada, salidas_server, tiempo_espera, tiempo_ocupado = simulacion(tiempo, lambda_max, (1 / (solicitudes_Ants * 60)), servidores_Ants)"
   ]
  },
  {
   "cell_type": "code",
   "execution_count": 7,
   "metadata": {
    "tags": []
   },
   "outputs": [
    {
     "output_type": "stream",
     "name": "stdout",
     "text": "Duracion: 60\n -- Solicitudes atentidas (143854.0):\n\tServer 1: 28679.0\n\tServer 2: 26614.0\n\tServer 3: 23839.0\n\tServer 4: 20136.0\n\tServer 5: 16093.0\n\tServer 6: 11937.0\n\tServer 7: 7942.0\n\tServer 8: 4825.0\n\tServer 9: 2534.0\n\tServer 10: 1255.0\n -- Tiempo de server ocupado:\n\tServer 1: 48.1\n\tServer 2: 44.35\n\tServer 3: 39.52\n\tServer 4: 33.93\n\tServer 5: 27.05\n\tServer 6: 19.58\n\tServer 7: 12.96\n\tServer 8: 7.88\n\tServer 9: 4.34\n\tServer 10: 2.0\n -- Tiempo de server desocupado:\n\tServer 1: 12.0\n\tServer 2: 16.0\n\tServer 3: 20.0\n\tServer 4: 26.0\n\tServer 5: 33.0\n\tServer 6: 40.0\n\tServer 7: 47.0\n\tServer 8: 52.0\n\tServer 9: 56.0\n\tServer 10: 58.0\n -- Tiempo de solicitudes en cola: 0.2037064290253998\n -- Tiempo promedio de solicitudes en cola: 1.4160440233664205e-06\n -- Promedio de solicitudes en cola por segundo: 1249.8241087361405\n -- Momento de la ultima salida: inf\n"
    }
   ],
   "source": [
    "print('Duracion:', tiempo)\n",
    "print(' -- Solicitudes atentidas (' + str(sum(salidas)) + '):')\n",
    "for salida in range(len(salidas)):\n",
    "    print('\\tServer ' + str(salida + 1) + ': ' + str(salidas[salida]))\n",
    "\n",
    "print(' -- Tiempo de server ocupado:')\n",
    "for ocupado in range(len(tiempo_ocupado)):\n",
    "    print('\\tServer ' + str(ocupado + 1) + ': ' + str(np.round(tiempo_ocupado[ocupado], 2)))\n",
    "\n",
    "print(' -- Tiempo de server desocupado:')\n",
    "for s in range(len(np.ones(servidores_Ants))):\n",
    "    print('\\tServer ' + str(s + 1) + ': ' + str(np.round(np.maximum(np.ones(servidores_Ants) * tiempo  - tiempo_ocupado, 0)[s])))\n",
    "    \n",
    "print(' -- Tiempo de solicitudes en cola:', sum(tiempo_espera))\n",
    "print(' -- Tiempo promedio de solicitudes en cola:', np.mean(tiempo_espera))\n",
    "print(' -- Promedio de solicitudes en cola por segundo:', np.mean([1/i if i > 0 else 0 for i in tiempo_espera]))\n",
    "print(' -- Momento de la ultima salida:', salidas_server[-1])"
   ]
  },
  {
   "source": [
    "## Task 2"
   ],
   "cell_type": "markdown",
   "metadata": {}
  },
  {
   "source": [
    "### ¿Cuántos servidores son necesarios para que ninguna solicitud tenga que esperar?"
   ],
   "cell_type": "markdown",
   "metadata": {}
  },
  {
   "cell_type": "code",
   "execution_count": 8,
   "metadata": {
    "tags": []
   },
   "outputs": [
    {
     "output_type": "stream",
     "name": "stdout",
     "text": "10 aun tiene tiempo de espera\n11 aun tiene tiempo de espera\n12 aun tiene tiempo de espera\n13 aun tiene tiempo de espera\n14 aun tiene tiempo de espera\n15 aun tiene tiempo de espera\n16 es una cantidad de servidores válida\n17 aun tiene tiempo de espera\n18 es una cantidad de servidores válida\n19 es una cantidad de servidores válida\n20 es una cantidad de servidores válida\n"
    }
   ],
   "source": [
    "#Variables\n",
    "#Generales\n",
    "tiempos = []\n",
    "tiempo = 60\n",
    "lambda_max = 2400\n",
    "\n",
    "#Gorilla\n",
    "solicitudes_Gorilla = 100\n",
    "\n",
    "#Ants\n",
    "solicitudes_Ants = solicitudes_Gorilla/10\n",
    "servidores_Ants = np.arange(10, 21)\n",
    "\n",
    "for servidor_ant in servidores_Ants:\n",
    "    tiempos_llegadas, tiempos_salidas, llegadas, salidas, clientes, siguiente_llegada, salidas_server, tiempo_espera, tiempo_ocupado = simulacion(tiempo, lambda_max, (1 / (solicitudes_Ants * 60)), servidor_ant)\n",
    "\n",
    "    if sum(tiempo_espera) > 0.0001:\n",
    "        print(servidor_ant, 'aun tiene tiempo de espera')\n",
    "    else:\n",
    "        print(servidor_ant, 'es una cantidad de servidores válida')"
   ]
  },
  {
   "cell_type": "markdown",
   "metadata": {},
   "source": [
    "## Task 3 y 4"
   ]
  },
  {
   "cell_type": "code",
   "execution_count": null,
   "metadata": {},
   "outputs": [],
   "source": []
  },
  {
   "cell_type": "markdown",
   "metadata": {},
   "source": [
    "## Task 5"
   ]
  },
  {
   "cell_type": "code",
   "execution_count": null,
   "metadata": {},
   "outputs": [],
   "source": []
  }
 ],
 "metadata": {
  "kernelspec": {
   "name": "Python 3.8.2 64-bit",
   "display_name": "Python 3.8.2 64-bit",
   "metadata": {
    "interpreter": {
     "hash": "b4c27b7690ca363ee6e14a25e93298ce4876c35662caa9406235c525ccf8df87"
    }
   }
  },
  "language_info": {
   "codemirror_mode": {
    "name": "ipython",
    "version": 3
   },
   "file_extension": ".py",
   "mimetype": "text/x-python",
   "name": "python",
   "nbconvert_exporter": "python",
   "pygments_lexer": "ipython3",
   "version": "3.8.2-final"
  }
 },
 "nbformat": 4,
 "nbformat_minor": 4
}