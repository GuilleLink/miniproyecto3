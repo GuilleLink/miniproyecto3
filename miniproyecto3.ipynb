{
 "cells": [
  {
   "cell_type": "markdown",
   "metadata": {},
   "source": [
    "# Miniproyecto 3"
   ]
  },
  {
   "cell_type": "markdown",
   "metadata": {},
   "source": [
    "### Imports"
   ]
  },
  {
   "cell_type": "code",
   "execution_count": 83,
   "metadata": {
    "tags": []
   },
   "outputs": [],
   "source": [
    "import numpy as np\n",
    "import random\n",
    "\n",
    "from utilities import *"
   ]
  },
  {
   "cell_type": "markdown",
   "metadata": {},
   "source": [
    "## Task 1"
   ]
  },
  {
   "source": [
    "## Gorilla"
   ],
   "cell_type": "markdown",
   "metadata": {}
  },
  {
   "cell_type": "code",
   "execution_count": 73,
   "metadata": {},
   "outputs": [],
   "source": [
    "#Variables\n",
    "#Generales\n",
    "tiempos = []\n",
    "tiempo = 60\n",
    "lambda_max = 2400\n",
    "#Gorilla\n",
    "solicitudes_Gorilla = 100\n",
    "servidores_Gorilla = 1"
   ]
  },
  {
   "cell_type": "code",
   "execution_count": 74,
   "metadata": {
    "tags": []
   },
   "outputs": [],
   "source": [
    "tiempos_llegadas, tiempos_salidas, llegadas, salidas, clientes, siguiente_llegada, salidas_server, tiempo_espera, tiempo_ocupado = simulacion(tiempo, lambda_max, 1 / (solicitudes_Gorilla / 60), servidores_Gorilla)"
   ]
  },
  {
   "source": [
    "print('Duracion:', tiempo)\n",
    "print(' -- Solicitudes atentidas:', salidas[0])\n",
    "print(' -- Tiempo de server ocupado:', tiempo_ocupado[0])\n",
    "print(' -- Tiempo de server desocupado:', np.maximum(np.ones(servidores_Gorilla) * tiempo  - tiempo_ocupado, 0))\n",
    "print(' -- Tiempo de solicitudes en cola:', sum(tiempo_espera))\n",
    "print(' -- Tiempo promedio de solicitudes en cola:', np.mean(tiempo_espera))\n",
    "print(' -- Promedio de solicitudes en cola por segundo:', np.mean([1/i if i > 0 else 0 for i in tiempo_espera]))\n",
    "print(' -- Momento de la ultima salida:', salidas_server[-1])"
   ],
   "cell_type": "code",
   "metadata": {
    "tags": []
   },
   "execution_count": 75,
   "outputs": [
    {
     "output_type": "stream",
     "name": "stdout",
     "text": "Duracion: 60\n -- Solicitudes atentidas: 106.0\n -- Tiempo de server ocupado: 60.190464940039114\n -- Tiempo de server desocupado: [0.]\n -- Tiempo de solicitudes en cola: 3271.1106919761464\n -- Tiempo promedio de solicitudes en cola: 30.57112796239389\n -- Promedio de solicitudes en cola por segundo: 1.4465996580104175\n -- Momento de la ultima salida: 60.190464940039114\n"
    }
   ]
  },
  {
   "source": [
    "## Ants"
   ],
   "cell_type": "markdown",
   "metadata": {}
  },
  {
   "cell_type": "code",
   "execution_count": 80,
   "metadata": {},
   "outputs": [],
   "source": [
    "#Variables\n",
    "#Generales\n",
    "tiempos = []\n",
    "tiempo = 60\n",
    "lambda_max = 2400\n",
    "\n",
    "#Gorilla\n",
    "solicitudes_Gorilla = 100\n",
    "servidores_Gorilla = 1\n",
    "\n",
    "#Ants\n",
    "solicitudes_Ants = solicitudes_Gorilla/10\n",
    "servidores_Ants = 30"
   ]
  },
  {
   "cell_type": "code",
   "execution_count": 84,
   "metadata": {},
   "outputs": [],
   "source": [
    "tiempos_llegadas, tiempos_salidas, llegadas, salidas, clientes, siguiente_llegada, salidas_server, tiempo_espera, tiempo_ocupado = simulacion(tiempo, lambda_max, 1 / (solicitudes_Ants), servidores_Ants)"
   ]
  },
  {
   "cell_type": "code",
   "execution_count": 85,
   "metadata": {
    "tags": []
   },
   "outputs": [
    {
     "output_type": "stream",
     "name": "stdout",
     "text": "Duracion: 100\n -- Solicitudes atentidas (9849.0): [1005.  916.  997. 1000.  994.  978.  981.  991.  991.  996.]\n -- Tiempo de server ocupado: [100.04 100.04 100.12 100.35 100.06 100.11 100.02 100.05 100.02 100.03]\n -- Tiempo de server desocupado: [0. 0. 0. 0. 0. 0. 0. 0. 0. 0.]\n -- Tiempo de solicitudes en cola: 474090.4289948466\n -- Tiempo promedio de solicitudes en cola: 48.087070594872486\n -- Promedio de solicitudes en cola por segundo: 0.08748902518612896\n -- Momento de la ultima salida: 100.03224927800375\n"
    }
   ],
   "source": [
    "print('Duracion:', tiempo)\n",
    "print(' -- Solicitudes atentidas (' + str(sum(salidas)) + '):', salidas)\n",
    "print(' -- Tiempo de server ocupado:', np.round(tiempo_ocupado, 2))\n",
    "print(' -- Tiempo de server desocupado:', np.maximum(np.ones(servidores_Gorilla) * tiempo  - tiempo_ocupado, 0))\n",
    "print(' -- Tiempo de solicitudes en cola:', sum(tiempo_espera))\n",
    "print(' -- Tiempo promedio de solicitudes en cola:', np.mean(tiempo_espera))\n",
    "print(' -- Promedio de solicitudes en cola por segundo:', np.mean([1/i if i > 0 else 0 for i in tiempo_espera]))\n",
    "print(' -- Momento de la ultima salida:', salidas_server[-1])"
   ]
  },
  {
   "source": [
    "## Task 2"
   ],
   "cell_type": "markdown",
   "metadata": {}
  },
  {
   "cell_type": "code",
   "execution_count": null,
   "metadata": {},
   "outputs": [],
   "source": []
  },
  {
   "cell_type": "markdown",
   "metadata": {},
   "source": [
    "## Task 3 y 4"
   ]
  },
  {
   "cell_type": "code",
   "execution_count": null,
   "metadata": {},
   "outputs": [],
   "source": []
  },
  {
   "cell_type": "markdown",
   "metadata": {},
   "source": [
    "## Task 5"
   ]
  },
  {
   "cell_type": "code",
   "execution_count": null,
   "metadata": {},
   "outputs": [],
   "source": []
  }
 ],
 "metadata": {
  "kernelspec": {
   "name": "Python 3.8.2 64-bit",
   "display_name": "Python 3.8.2 64-bit",
   "metadata": {
    "interpreter": {
     "hash": "b4c27b7690ca363ee6e14a25e93298ce4876c35662caa9406235c525ccf8df87"
    }
   }
  },
  "language_info": {
   "codemirror_mode": {
    "name": "ipython",
    "version": 3
   },
   "file_extension": ".py",
   "mimetype": "text/x-python",
   "name": "python",
   "nbconvert_exporter": "python",
   "pygments_lexer": "ipython3",
   "version": "3.8.2-final"
  }
 },
 "nbformat": 4,
 "nbformat_minor": 4
}